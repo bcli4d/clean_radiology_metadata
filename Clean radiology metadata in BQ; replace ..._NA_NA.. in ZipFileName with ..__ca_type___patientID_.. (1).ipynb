{
 "cells": [
  {
   "cell_type": "code",
   "execution_count": 1,
   "metadata": {},
   "outputs": [],
   "source": [
    "from datalab.context import Context\n",
    "import google.datalab.bigquery as bq\n",
    "import google.datalab.storage as gcs\n",
    "import numpy as np\n",
    "import pandas as pd\n",
    "import json\n",
    "import tciaclient\n"
   ]
  },
  {
   "cell_type": "code",
   "execution_count": 2,
   "metadata": {},
   "outputs": [],
   "source": [
    "# Basic defs\n",
    "project_id = Context.default().project_id \n",
    "source_dataset = project_id+'.working'\n",
    "source_table = source_dataset+'.colon_metadata'\n",
    "\n",
    "bucket_name = project_id + '-cleaned'\n",
    "object_name = 'colon-metadata'\n",
    "\n",
    "dest_dataset = project_id+'.working'\n",
    "dest_table = dest_dataset+\".colon_metadata_cleaned\"\n"
   ]
  },
  {
   "cell_type": "code",
   "execution_count": 3,
   "metadata": {},
   "outputs": [],
   "source": [
    "# Table we need to clean up\n",
    "#table = bq.Table(source_table_name)\n",
    "# Define the query tp get it\n",
    "#get_metadata = bq.Query(\"select * from `cgc-05-0011.working.colon_metadata` order by PatientID\" )\n",
    "get_metadata = bq.Query(\"select * from `\"+source_table+\"` order by PatientID\")\n",
    "#Execute the query\n",
    "query = get_metadata.execute()\n",
    "# Convert to a dataframe\n",
    "df = query.result().to_dataframe()\n",
    "schema = query.result().schema"
   ]
  },
  {
   "cell_type": "code",
   "execution_count": 4,
   "metadata": {},
   "outputs": [],
   "source": [
    "# Replace /NA/NA with /<cancer type>/<patient id>\n",
    "r = query.result()\n",
    "# Build a dictionary that maps SeriesInstanceUID to cancer type\n",
    "studyToCancerType = {}\n",
    "# We will also build a list of lists of cleaned metadata in cleaned.\n",
    "cleaned = []\n",
    "# and a dictionary of old to new GCS file names\n",
    "ZipFileNames = {}\n",
    "# Get our TCIA api key from GCS and create a TCIAClient\n",
    "#tciaApiKey=storage.Bucket(Context.default().project_id + '-dev').object('tcia_key.txt').read_lines()\n",
    "tciaApiKey=gcs.Bucket(Context.default().project_id + '-dev').object('tcia_key.txt').read_lines()\n",
    "tcia_client = tciaclient.TCIAClient(apiKey = tciaApiKey[0],baseUrl=\"https://services.cancerimagingarchive.net/services/v3\",resource = \"TCIA\")\n",
    "\n",
    "for row in range(r.length):\n",
    "  #print(row)\n",
    "  if r[row][\"ZipFileName\"].find('/NA/NA') >= 0:\n",
    "    StudyInstanceUID = r[row][\"StudyInstanceUID\"]\n",
    "    #print(\"Study \", StudyInstanceUID)\n",
    "    if StudyInstanceUID in studyToCancerType:\n",
    "      #See if we've already encountered this study ID\n",
    "      cancerType = studyToCancerType[StudyInstanceUID]\n",
    "      #print(\"Have cancer type: \", cancerType)\n",
    "    else:\n",
    "      #Get study metadata from TCIA\n",
    "      response = tcia_client.get_series(studyInstanceUid=StudyInstanceUID)\n",
    "      studyData = json.loads(response.read())\n",
    "      cancerType = studyData[0][\"Collection\"]\n",
    "      studyToCancerType[StudyInstanceUID] = cancerType\n",
    "      #print(\"Found cancer type: \", cancerType)\n",
    "    ZipFileName = r[row][\"ZipFileName\"]\n",
    "    splitName = ZipFileName.rsplit(\"/\",3) \n",
    "    splitName[1] = cancerType    \n",
    "    splitName[2] = r[row][\"PatientID\"]\n",
    "    newZipFileName = \"/\".join(splitName)\n",
    "    #print(ZipFileName,\"-->\",r[row][\"ZipFileName\"])\n",
    "\n",
    "    #See if we alreadt encountered this ZipFileName\n",
    "    if not ZipFileName in ZipFileNames:\n",
    "      ZipFileNames[ZipFileName] = newZipFileName\n",
    "  else:\n",
    "    newZipFileName = r[row][\"ZipFileName\"]\n",
    "\n",
    "# Copy the data from the table row into a list\n",
    "  data = [newZipFileName] \n",
    "  for element in range(1,len(schema)):\n",
    "    if str(r[row][schema[element]['name']]) == 'None':\n",
    "      data.append(\"\")\n",
    "      #print(row,schema[element]['name'],r[row][schema[element]['name']])\n",
    "    else:\n",
    "      data.append(str(r[row][schema[element]['name']]))\n",
    "  cleaned.append(data)\n",
    "  \n",
    "  \n",
    "# Convert the list of lists to csv (really tsv)\n",
    "cleaned_csv = []\n",
    "for clean in range(len(cleaned)):\n",
    "  cleaned_csv.append(\"\\t\".join(cleaned[clean]))\n",
    "cleaned_csv = \"\\n\".join(cleaned_csv)\n"
   ]
  },
  {
   "cell_type": "code",
   "execution_count": 6,
   "metadata": {},
   "outputs": [],
   "source": [
    "bucket = gcs.Bucket(bucket_name)\n",
    "\n",
    "# Create storage bucket if it does not exist\n",
    "if not bucket.exists():\n",
    "    bucket.create()\n",
    "    \n",
    "# Create the object \n",
    "object = bucket.object(object_name)\n",
    "# Convert the dataframe to csv and write to the GCS\n",
    "#object.write_stream(content=df.to_csv(index=False),content_type='text/csv')\n",
    "result = object.write_stream(content=cleaned_csv,content_type='text/csv')"
   ]
  },
  {
   "cell_type": "code",
   "execution_count": 7,
   "metadata": {},
   "outputs": [],
   "source": [
    "# Now upload the csv table in GCS to BQ\n",
    "#new_table = bq.Table('cgc-05-0011.working.colon_metadata_clean')\n",
    "new_table = bq.Table(dest_table)\n",
    "schema = query.result().schema\n",
    "CSVOptions = bq.CSVOptions(delimiter=\"\\t\",skip_leading_rows=0)\n",
    "new_new_table = new_table.create(schema=schema, overwrite=True)\n",
    "blob = 'gs://'+bucket_name+'/'+object_name\n",
    "job = new_new_table.load(blob,ignore_unknown_values=True, csv_options=CSVOptions, max_bad_records=10)\n",
    "\n",
    " "
   ]
  },
  {
   "cell_type": "code",
   "execution_count": 8,
   "metadata": {},
   "outputs": [],
   "source": [
    "import subprocess\n",
    "# We need to copy files that had /NA/NA in their names to give them the correct name\n",
    "for file in ZipFileNames:\n",
    "  dst_file = ZipFileNames[file].split('/',3)\n",
    "  src_file = file.split('/',3)\n",
    "  source_object = gcs.Object(src_file[2], src_file[3])\n",
    "\n",
    "  try:\n",
    "    dest_object = source_object.copy_to(new_key=dst_file[3],bucket=\"cgc-05-0011-\"+dst_file[2])\n",
    "  except Exception as e:\n",
    "    print(\"Error copying \",file,\"-->\",ZipFileNames[file],\": \",e)\n"
   ]
  }
 ],
 "metadata": {
  "kernelspec": {
   "display_name": "Python 2",
   "language": "python",
   "name": "python2"
  },
  "language_info": {
   "codemirror_mode": {
    "name": "ipython",
    "version": 2
   },
   "file_extension": ".py",
   "mimetype": "text/x-python",
   "name": "python",
   "nbconvert_exporter": "python",
   "pygments_lexer": "ipython2",
   "version": "2.7.15"
  }
 },
 "nbformat": 4,
 "nbformat_minor": 2
}
