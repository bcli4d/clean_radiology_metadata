{
 "cells": [
  {
   "cell_type": "code",
   "execution_count": 1,
   "metadata": {},
   "outputs": [],
   "source": [
    "from datalab.context import Context\n",
    "import google.datalab.bigquery as bq\n",
    "import google.datalab.storage as gcs\n",
    "import numpy as np\n",
    "import pandas as pd\n",
    "import json\n",
    "import tciaclient\n"
   ]
  },
  {
   "cell_type": "code",
   "execution_count": 2,
   "metadata": {},
   "outputs": [],
   "source": [
    "# Basic defs\n",
    "\n",
    "# What BQ table is being cleaned\n",
    "project_id = Context.default().project_id \n",
    "source_dataset = project_id+'.working'\n",
    "source_table = source_dataset+'.TCGA_radiology_images'\n",
    "\n",
    "# What's the GQ bucket where cleaned results go \n",
    "bucket_name = project_id + '-cleaned'\n",
    "object_name = 'TCGA_radiology_images'\n",
    "\n",
    "# What's the BQ table of cleaned data\n",
    "dest_dataset = project_id+'.working'\n",
    "dest_table = dest_dataset+\".TCGA_radiology_images_cleaned\"\n"
   ]
  },
  {
   "cell_type": "code",
   "execution_count": 11,
   "metadata": {},
   "outputs": [],
   "source": [
    "# Table we need to clean up\n",
    "#table = bq.Table(source_table_name)\n",
    "# Define the query tp get it\n",
    "get_metadata = bq.Query(\"select * from `\"+source_table+\"` order by PatientID\")\n",
    "#Execute the query\n",
    "query = get_metadata.execute()\n",
    "# Convert to a dataframe\n",
    "df = query.result().to_dataframe()\n",
    "schema = query.result().schema"
   ]
  },
  {
   "cell_type": "code",
   "execution_count": null,
   "metadata": {},
   "outputs": [],
   "source": [
    "# Replace /NA/NA with /<cancer type>/<patient id>\n",
    "r = query.result()\n",
    "# Build a dictionary that maps SeriesInstanceUID to cancer type\n",
    "studyToCancerType = {}\n",
    "# We will also build a list of lists of cleaned metadata in cleaned.\n",
    "cleaned = []\n",
    "# and a dictionary of old to new GCS file names\n",
    "ZipFileNames = {}\n",
    "# Get our TCIA api key from GCS and create a TCIAClient\n",
    "tciaApiKey=gcs.Bucket(Context.default().project_id + '-dev').object('tcia_key.txt').read_stream()\n",
    "# Under Python3, read_stream() returns bytes, so we have to convert to string, then split out the \\n\n",
    "tciaApiKey=tciaApiKey.decode().split('\\n')\n",
    "tcia_client = tciaclient.TCIAClient(apiKey = tciaApiKey[0],baseUrl=\"https://services.cancerimagingarchive.net/services/v3\",resource = \"TCIA\")\n",
    "\n",
    "for row in range(r.length):\n",
    "  if row % 10000 == 0:\n",
    "    print(row)\n",
    "  #print(row)\n",
    "  if r[row][\"ZipFileName\"].find('/NA/NA') >= 0:\n",
    "    StudyInstanceUID = r[row][\"StudyInstanceUID\"]\n",
    "    #print(\"Study \", StudyInstanceUID)\n",
    "    if StudyInstanceUID in studyToCancerType:\n",
    "      #See if we've already encountered this study ID\n",
    "      cancerType = studyToCancerType[StudyInstanceUID]\n",
    "      #print(\"Have cancer type: \", cancerType)\n",
    "    else:\n",
    "      #Get study metadata from TCIA\n",
    "      response = tcia_client.get_series(studyInstanceUid=StudyInstanceUID)\n",
    "      studyData = json.loads(response.text)\n",
    "      cancerType = studyData[0][\"Collection\"]\n",
    "      studyToCancerType[StudyInstanceUID] = cancerType\n",
    "      #print(\"Found cancer type: \", cancerType)\n",
    "    ZipFileName = r[row][\"ZipFileName\"]\n",
    "    splitName = ZipFileName.rsplit(\"/\",3) \n",
    "    splitName[1] = cancerType    \n",
    "    splitName[2] = r[row][\"PatientID\"]\n",
    "    newZipFileName = \"/\".join(splitName)\n",
    "    #print(ZipFileName,\"-->\",r[row][\"ZipFileName\"])\n",
    "\n",
    "    #See if we alreadt encountered this ZipFileName\n",
    "    if not ZipFileName in ZipFileNames:\n",
    "      ZipFileNames[ZipFileName] = newZipFileName\n",
    "  else:\n",
    "    newZipFileName = r[row][\"ZipFileName\"]\n",
    "\n",
    "# Copy the data from the table row into a list\n",
    "  data = [newZipFileName] \n",
    "  for element in range(1,len(schema)):\n",
    "    if schema[element]['type'] == 'INTEGER' or schema[element]['type'] == 'FLOAT':\n",
    "      if str(r[row][schema[element]['name']]) == 'None':\n",
    "        data.append(\"\")\n",
    "        #print(row,schema[element]['name'],r[row][schema[element]['name']])\n",
    "      else:\n",
    "        data.append(str(r[row][schema[element]['name']]))\n",
    "    else:\n",
    "      data.append(r[row][schema[element]['name']])\n",
    "  cleaned.append(data)\n",
    "  \n",
    "  \n"
   ]
  },
  {
   "cell_type": "code",
   "execution_count": null,
   "metadata": {},
   "outputs": [],
   "source": [
    "# Convert the list of lists to tsv\n",
    "def tabify(cleaned):\n",
    "  s = str(cleaned[0])\n",
    "  #print(type(s))\n",
    "  for i in range(1,len(cleaned)):\n",
    "    s+= \"\\t\"\n",
    "    if cleaned[i] != None:\n",
    "      s+= cleaned[i]\n",
    "  return s\n",
    "\n",
    "cleaned_list = []\n",
    "for clean in range(len(cleaned)):\n",
    "  if clean % 10000 == 0:\n",
    "    print(clean)\n",
    "  cleaned_list.append(tabify(cleaned[clean]))\n",
    "cleaned_tsv = \"\\n\".join(cleaned_list)\n"
   ]
  },
  {
   "cell_type": "code",
   "execution_count": 64,
   "metadata": {},
   "outputs": [],
   "source": [
    "bucket = gcs.Bucket(bucket_name)\n",
    "\n",
    "# Create storage bucket if it does not exist\n",
    "if not bucket.exists():\n",
    "    bucket.create()\n",
    "    \n",
    "# Create the object \n",
    "object = bucket.object(object_name)\n",
    "# Convert the dataframe to csv and write to the GCS\n",
    "result = object.write_stream(content=cleaned_tsv,content_type='text/tsv')\n"
   ]
  },
  {
   "cell_type": "code",
   "execution_count": 65,
   "metadata": {},
   "outputs": [],
   "source": [
    "# Also save the ZipFileNames dictionary\n",
    "bytes = json.dumps(ZipFileNames)\n",
    "zip_object = bucket.object('ZipFileNames') \n",
    "result = zip_object.write_stream(content=bytes,content_type='text/plain')\n"
   ]
  },
  {
   "cell_type": "code",
   "execution_count": 34,
   "metadata": {},
   "outputs": [],
   "source": [
    "# Now upload the csv table in GCS to BQ\n",
    "new_table = bq.Table(dest_table)\n",
    "schema = query.result().schema\n",
    "CSVOptions = bq.CSVOptions(delimiter=\"\\t\",skip_leading_rows=0)\n",
    "new_new_table = new_table.create(schema=schema, overwrite=True)\n",
    "blob = 'gs://'+bucket_name+'/'+object_name\n",
    "job = new_new_table.load(blob,ignore_unknown_values=True, csv_options=CSVOptions, max_bad_records=10)\n",
    "\n",
    " "
   ]
  },
  {
   "cell_type": "code",
   "execution_count": null,
   "metadata": {},
   "outputs": [],
   "source": [
    "# We need to copy files that had /NA/NA in their names to give them the correct name\n",
    "\n",
    "dest_bucket = gcs.Bucket(\"cgc-05-0011-isb-tcia-open\")\n",
    "\n",
    "# Create storage bucket if it does not exist\n",
    "if not dest_bucket.exists():\n",
    "    dest_bucket.create()\n",
    "\n",
    "for file in ZipFileNames:\n",
    "  dst_file = ZipFileNames[file].split('/',3)\n",
    "  src_file = file.split('/',3)\n",
    "  source_object = gcs.Object(src_file[2], src_file[3])\n",
    "\n",
    "  try:\n",
    "    dest_object = source_object.copy_to(new_key=dst_file[3],dest_bucket)\n",
    "  except Exception as e:\n",
    "    print(\"Error copying \",file,\"-->\",ZipFileNames[file],\": \",e)\n"
   ]
  }
 ],
 "metadata": {
  "kernelspec": {
   "display_name": "Python 3",
   "language": "python",
   "name": "python3"
  },
  "language_info": {
   "codemirror_mode": {
    "name": "ipython",
    "version": 3
   },
   "file_extension": ".py",
   "mimetype": "text/x-python",
   "name": "python",
   "nbconvert_exporter": "python",
   "pygments_lexer": "ipython3",
   "version": "3.5.5"
  }
 },
 "nbformat": 4,
 "nbformat_minor": 2
}
